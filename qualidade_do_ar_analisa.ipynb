{
 "cells": [
  {
   "cell_type": "markdown",
   "metadata": {},
   "source": [
    "## Classifica a qualidade do ar\n",
    "\n",
    "- Esse projeto recebe os dados relativos a substâncias contidas no ar que são coletadas através de sensores químicos de qualidade do ar.\n",
    "- Analisa e trata os dados submetendo a um algoritmo de clusterização de machine learning, definindo e marcando cada linha do arquivo com seu cluster mais adequado.\n",
    "- Após a clusterização treina um modelo de classificação, em regressão logística de machine learning, fazendo a predição, em percentual, de qual a probabiliade da qualidade do ar, apresentado através dos componentes contidos no mesmo, de pertencer a um grupo ou a outro.\n",
    "\n",
    "- Dados da qualidade do ar: https://archive.ics.uci.edu/dataset/360/air+quality\n",
    "\n",
    "O conjunto de dados contém 9358 instâncias de respostas médias horárias de uma matriz de 5 sensores químicos de óxido de metal incorporados em um dispositivo multissensor químico de qualidade do ar. O dispositivo estava localizado no campo em uma área significativamente poluída, no nível da estrada, dentro de uma cidade italiana. Os dados foram registrados de março de 2004 a fevereiro de 2005 (um ano), representando as gravações mais longas disponíveis gratuitamente de respostas de dispositivos de sensores químicos de qualidade do ar implantados em campo. Concentrações médias horárias do Ground Truth para CO, hidrocarbonetos não metânicos, benzeno, óxidos de nitrogênio totais (NOx) e dióxido de nitrogênio (NO2) foram fornecidas por um analisador certificado de referência co-localizado. Evidências de sensibilidades cruzadas, bem como desvios de conceito e sensor estão presentes, conforme descrito em De Vito et al., Sens. And Act. B, Vol. 129,2,2008 (citação necessária), eventualmente afetando as capacidades de estimativa de concentração dos sensores. Valores ausentes são marcados com valor -200. Este conjunto de dados pode ser usado exclusivamente para fins de pesquisa. Fins comerciais são totalmente excluídos.\n",
    "\n"
   ]
  },
  {
   "cell_type": "code",
   "execution_count": 305,
   "metadata": {},
   "outputs": [],
   "source": [
    "# importando bibliotecas\n",
    "from sklearn.preprocessing import (\n",
    "    OneHotEncoder, # transforma dados categóricos em colunas e valores binário 0-1\n",
    "    StandardScaler, # faz a padronização dos dados para melhorar a normalidade\n",
    "    MinMaxScaler, # transforma os valores dentro de uma escala entre 0 e 1 e melhora a normalidade\n",
    "    PowerTransformer, # transforma os valores para melhorar a normalidade\n",
    ")\n",
    "from sklearn.compose import ColumnTransformer\n",
    "\n",
    "from scipy.stats import skew \n",
    "from scipy.stats import kurtosis \n",
    "\n",
    "import pandas as pd\n",
    "import matplotlib.pyplot as plt\n",
    "import seaborn as sns\n",
    "import numpy as np\n",
    "\n",
    "pd.set_option('display.max_rows', None)\n",
    "pd.set_option('display.max_columns', None)\n",
    "import warnings\n",
    "warnings.simplefilter('ignore')"
   ]
  },
  {
   "cell_type": "code",
   "execution_count": 306,
   "metadata": {},
   "outputs": [],
   "source": [
    "# carregando arquivo de dados da qualidade do ar\n",
    "df_quality = pd.read_csv('arquivos/AirQualityUCI.csv', sep=';')"
   ]
  },
  {
   "cell_type": "code",
   "execution_count": 307,
   "metadata": {},
   "outputs": [
    {
     "data": {
      "text/plain": [
       "(9471, 17)"
      ]
     },
     "execution_count": 307,
     "metadata": {},
     "output_type": "execute_result"
    }
   ],
   "source": [
    "# verificando o tamanho do arquivo conferindo a quantidade de linha(registros) e colunas(varáveis)\n",
    "df_quality.shape"
   ]
  },
  {
   "cell_type": "code",
   "execution_count": 308,
   "metadata": {},
   "outputs": [
    {
     "name": "stdout",
     "output_type": "stream",
     "text": [
      "<class 'pandas.core.frame.DataFrame'>\n",
      "RangeIndex: 9471 entries, 0 to 9470\n",
      "Data columns (total 17 columns):\n",
      " #   Column         Non-Null Count  Dtype  \n",
      "---  ------         --------------  -----  \n",
      " 0   Date           9357 non-null   object \n",
      " 1   Time           9357 non-null   object \n",
      " 2   CO(GT)         9357 non-null   object \n",
      " 3   PT08.S1(CO)    9357 non-null   float64\n",
      " 4   NMHC(GT)       9357 non-null   float64\n",
      " 5   C6H6(GT)       9357 non-null   object \n",
      " 6   PT08.S2(NMHC)  9357 non-null   float64\n",
      " 7   NOx(GT)        9357 non-null   float64\n",
      " 8   PT08.S3(NOx)   9357 non-null   float64\n",
      " 9   NO2(GT)        9357 non-null   float64\n",
      " 10  PT08.S4(NO2)   9357 non-null   float64\n",
      " 11  PT08.S5(O3)    9357 non-null   float64\n",
      " 12  T              9357 non-null   object \n",
      " 13  RH             9357 non-null   object \n",
      " 14  AH             9357 non-null   object \n",
      " 15  Unnamed: 15    0 non-null      float64\n",
      " 16  Unnamed: 16    0 non-null      float64\n",
      "dtypes: float64(10), object(7)\n",
      "memory usage: 1.2+ MB\n"
     ]
    }
   ],
   "source": [
    "# reconhecendo as variáveis disponíveis\n",
    "df_quality.info()"
   ]
  },
  {
   "cell_type": "code",
   "execution_count": 309,
   "metadata": {},
   "outputs": [
    {
     "data": {
      "text/plain": [
       "Time\n",
       "18.00.00    390\n",
       "05.00.00    390\n",
       "14.00.00    390\n",
       "13.00.00    390\n",
       "12.00.00    390\n",
       "11.00.00    390\n",
       "10.00.00    390\n",
       "09.00.00    390\n",
       "08.00.00    390\n",
       "07.00.00    390\n",
       "19.00.00    390\n",
       "06.00.00    390\n",
       "04.00.00    390\n",
       "03.00.00    390\n",
       "02.00.00    390\n",
       "01.00.00    390\n",
       "00.00.00    390\n",
       "23.00.00    390\n",
       "22.00.00    390\n",
       "21.00.00    390\n",
       "20.00.00    390\n",
       "15.00.00    389\n",
       "16.00.00    389\n",
       "17.00.00    389\n",
       "Name: count, dtype: int64"
      ]
     },
     "execution_count": 309,
     "metadata": {},
     "output_type": "execute_result"
    }
   ],
   "source": [
    "df_quality.Time.value_counts()"
   ]
  },
  {
   "cell_type": "code",
   "execution_count": 310,
   "metadata": {},
   "outputs": [
    {
     "data": {
      "text/html": [
       "<div>\n",
       "<style scoped>\n",
       "    .dataframe tbody tr th:only-of-type {\n",
       "        vertical-align: middle;\n",
       "    }\n",
       "\n",
       "    .dataframe tbody tr th {\n",
       "        vertical-align: top;\n",
       "    }\n",
       "\n",
       "    .dataframe thead th {\n",
       "        text-align: right;\n",
       "    }\n",
       "</style>\n",
       "<table border=\"1\" class=\"dataframe\">\n",
       "  <thead>\n",
       "    <tr style=\"text-align: right;\">\n",
       "      <th></th>\n",
       "      <th>Date</th>\n",
       "      <th>Time</th>\n",
       "      <th>CO(GT)</th>\n",
       "      <th>PT08.S1(CO)</th>\n",
       "      <th>NMHC(GT)</th>\n",
       "      <th>C6H6(GT)</th>\n",
       "      <th>PT08.S2(NMHC)</th>\n",
       "      <th>NOx(GT)</th>\n",
       "      <th>PT08.S3(NOx)</th>\n",
       "      <th>NO2(GT)</th>\n",
       "      <th>PT08.S4(NO2)</th>\n",
       "      <th>PT08.S5(O3)</th>\n",
       "      <th>T</th>\n",
       "      <th>RH</th>\n",
       "      <th>AH</th>\n",
       "      <th>Unnamed: 15</th>\n",
       "      <th>Unnamed: 16</th>\n",
       "    </tr>\n",
       "  </thead>\n",
       "  <tbody>\n",
       "    <tr>\n",
       "      <th>0</th>\n",
       "      <td>10/03/2004</td>\n",
       "      <td>18.00.00</td>\n",
       "      <td>2,6</td>\n",
       "      <td>1360.0</td>\n",
       "      <td>150.0</td>\n",
       "      <td>11,9</td>\n",
       "      <td>1046.0</td>\n",
       "      <td>166.0</td>\n",
       "      <td>1056.0</td>\n",
       "      <td>113.0</td>\n",
       "      <td>1692.0</td>\n",
       "      <td>1268.0</td>\n",
       "      <td>13,6</td>\n",
       "      <td>48,9</td>\n",
       "      <td>0,7578</td>\n",
       "      <td>NaN</td>\n",
       "      <td>NaN</td>\n",
       "    </tr>\n",
       "    <tr>\n",
       "      <th>1</th>\n",
       "      <td>10/03/2004</td>\n",
       "      <td>19.00.00</td>\n",
       "      <td>2</td>\n",
       "      <td>1292.0</td>\n",
       "      <td>112.0</td>\n",
       "      <td>9,4</td>\n",
       "      <td>955.0</td>\n",
       "      <td>103.0</td>\n",
       "      <td>1174.0</td>\n",
       "      <td>92.0</td>\n",
       "      <td>1559.0</td>\n",
       "      <td>972.0</td>\n",
       "      <td>13,3</td>\n",
       "      <td>47,7</td>\n",
       "      <td>0,7255</td>\n",
       "      <td>NaN</td>\n",
       "      <td>NaN</td>\n",
       "    </tr>\n",
       "    <tr>\n",
       "      <th>2</th>\n",
       "      <td>10/03/2004</td>\n",
       "      <td>20.00.00</td>\n",
       "      <td>2,2</td>\n",
       "      <td>1402.0</td>\n",
       "      <td>88.0</td>\n",
       "      <td>9,0</td>\n",
       "      <td>939.0</td>\n",
       "      <td>131.0</td>\n",
       "      <td>1140.0</td>\n",
       "      <td>114.0</td>\n",
       "      <td>1555.0</td>\n",
       "      <td>1074.0</td>\n",
       "      <td>11,9</td>\n",
       "      <td>54,0</td>\n",
       "      <td>0,7502</td>\n",
       "      <td>NaN</td>\n",
       "      <td>NaN</td>\n",
       "    </tr>\n",
       "  </tbody>\n",
       "</table>\n",
       "</div>"
      ],
      "text/plain": [
       "         Date      Time CO(GT)  PT08.S1(CO)  NMHC(GT) C6H6(GT)  PT08.S2(NMHC)  \\\n",
       "0  10/03/2004  18.00.00    2,6       1360.0     150.0     11,9         1046.0   \n",
       "1  10/03/2004  19.00.00      2       1292.0     112.0      9,4          955.0   \n",
       "2  10/03/2004  20.00.00    2,2       1402.0      88.0      9,0          939.0   \n",
       "\n",
       "   NOx(GT)  PT08.S3(NOx)  NO2(GT)  PT08.S4(NO2)  PT08.S5(O3)     T    RH  \\\n",
       "0    166.0        1056.0    113.0        1692.0       1268.0  13,6  48,9   \n",
       "1    103.0        1174.0     92.0        1559.0        972.0  13,3  47,7   \n",
       "2    131.0        1140.0    114.0        1555.0       1074.0  11,9  54,0   \n",
       "\n",
       "       AH  Unnamed: 15  Unnamed: 16  \n",
       "0  0,7578          NaN          NaN  \n",
       "1  0,7255          NaN          NaN  \n",
       "2  0,7502          NaN          NaN  "
      ]
     },
     "execution_count": 310,
     "metadata": {},
     "output_type": "execute_result"
    }
   ],
   "source": [
    "df_quality.head(3)"
   ]
  },
  {
   "cell_type": "code",
   "execution_count": 311,
   "metadata": {},
   "outputs": [],
   "source": [
    "df_quality['Date'] = df_quality['Date'].astype('datetime64[ns]')\n",
    "\n",
    "df_quality['CO(GT)'] = df_quality['CO(GT)'].replace(',','.', regex=True)\n",
    "df_quality['CO(GT)'] = df_quality['CO(GT)'].astype(float)\n",
    "\n",
    "df_quality['C6H6(GT)'] = df_quality['C6H6(GT)'].replace(',','.', regex=True)\n",
    "df_quality['C6H6(GT)'] = df_quality['C6H6(GT)'].astype(float)\n",
    "\n",
    "df_quality['T'] = df_quality['T'].replace(',','.', regex=True)\n",
    "df_quality['T'] = df_quality['T'].astype(float)\n",
    "\n",
    "df_quality['RH'] = df_quality['RH'].replace(',','.', regex=True)\n",
    "df_quality['RH'] = df_quality['RH'].astype(float)\n",
    "\n",
    "df_quality['AH'] = df_quality['AH'].replace(',','.', regex=True)\n",
    "df_quality['AH'] = df_quality['AH'].astype(float)"
   ]
  },
  {
   "cell_type": "code",
   "execution_count": 312,
   "metadata": {},
   "outputs": [
    {
     "name": "stdout",
     "output_type": "stream",
     "text": [
      "<class 'pandas.core.frame.DataFrame'>\n",
      "RangeIndex: 9471 entries, 0 to 9470\n",
      "Data columns (total 17 columns):\n",
      " #   Column         Non-Null Count  Dtype         \n",
      "---  ------         --------------  -----         \n",
      " 0   Date           9357 non-null   datetime64[ns]\n",
      " 1   Time           9357 non-null   object        \n",
      " 2   CO(GT)         9357 non-null   float64       \n",
      " 3   PT08.S1(CO)    9357 non-null   float64       \n",
      " 4   NMHC(GT)       9357 non-null   float64       \n",
      " 5   C6H6(GT)       9357 non-null   float64       \n",
      " 6   PT08.S2(NMHC)  9357 non-null   float64       \n",
      " 7   NOx(GT)        9357 non-null   float64       \n",
      " 8   PT08.S3(NOx)   9357 non-null   float64       \n",
      " 9   NO2(GT)        9357 non-null   float64       \n",
      " 10  PT08.S4(NO2)   9357 non-null   float64       \n",
      " 11  PT08.S5(O3)    9357 non-null   float64       \n",
      " 12  T              9357 non-null   float64       \n",
      " 13  RH             9357 non-null   float64       \n",
      " 14  AH             9357 non-null   float64       \n",
      " 15  Unnamed: 15    0 non-null      float64       \n",
      " 16  Unnamed: 16    0 non-null      float64       \n",
      "dtypes: datetime64[ns](1), float64(15), object(1)\n",
      "memory usage: 1.2+ MB\n"
     ]
    }
   ],
   "source": [
    "df_quality.info()"
   ]
  },
  {
   "cell_type": "code",
   "execution_count": 313,
   "metadata": {},
   "outputs": [],
   "source": [
    "df_quality['dia_semana'] = df_quality['Date'].dt.day_of_week # 0 = segunda-feira"
   ]
  },
  {
   "cell_type": "code",
   "execution_count": 314,
   "metadata": {},
   "outputs": [
    {
     "data": {
      "text/plain": [
       "['Date',\n",
       " 'Time',\n",
       " 'CO(GT)',\n",
       " 'PT08.S1(CO)',\n",
       " 'NMHC(GT)',\n",
       " 'C6H6(GT)',\n",
       " 'PT08.S2(NMHC)',\n",
       " 'NOx(GT)',\n",
       " 'PT08.S3(NOx)',\n",
       " 'NO2(GT)',\n",
       " 'PT08.S4(NO2)',\n",
       " 'PT08.S5(O3)',\n",
       " 'T',\n",
       " 'RH',\n",
       " 'AH',\n",
       " 'Unnamed: 15',\n",
       " 'Unnamed: 16',\n",
       " 'dia_semana']"
      ]
     },
     "execution_count": 314,
     "metadata": {},
     "output_type": "execute_result"
    }
   ],
   "source": [
    "list(df_quality.columns)"
   ]
  },
  {
   "cell_type": "code",
   "execution_count": 315,
   "metadata": {},
   "outputs": [],
   "source": [
    "df_quality = df_quality[['Date',\n",
    " 'Time',\n",
    " 'CO(GT)',\n",
    " 'PT08.S1(CO)',\n",
    " 'NMHC(GT)',\n",
    " 'C6H6(GT)',\n",
    " 'PT08.S2(NMHC)',\n",
    " 'NOx(GT)',\n",
    " 'PT08.S3(NOx)',\n",
    " 'NO2(GT)',\n",
    " 'PT08.S4(NO2)',\n",
    " 'PT08.S5(O3)',\n",
    " 'T',\n",
    " 'RH',\n",
    " 'AH',\n",
    " 'dia_semana']]"
   ]
  },
  {
   "cell_type": "code",
   "execution_count": 316,
   "metadata": {},
   "outputs": [],
   "source": [
    "df_quality.columns = ['Date',\n",
    " 'Time',\n",
    " 'CO-mg/m3/hr',\n",
    " 'CO/hr',\n",
    " 'NMHC-micgr/m3/hr',\n",
    " 'C6H6-micgr/m3/hr',\n",
    " 'NMHC/hr',\n",
    " 'NOx-ppb/hr',\n",
    " 'NOx/hr',\n",
    " 'NO2-micgr/m3/hr',\n",
    " 'NO2/hr',\n",
    " '03/hr',\n",
    " 'temperatura°C',\n",
    " 'umidade_relativa',\n",
    " 'umidade_absoluta',\n",
    " 'dia_semana']"
   ]
  },
  {
   "cell_type": "code",
   "execution_count": 317,
   "metadata": {},
   "outputs": [
    {
     "name": "stdout",
     "output_type": "stream",
     "text": [
      "<class 'pandas.core.frame.DataFrame'>\n",
      "RangeIndex: 9471 entries, 0 to 9470\n",
      "Data columns (total 16 columns):\n",
      " #   Column            Non-Null Count  Dtype         \n",
      "---  ------            --------------  -----         \n",
      " 0   Date              9357 non-null   datetime64[ns]\n",
      " 1   Time              9357 non-null   object        \n",
      " 2   CO-mg/m3/hr       9357 non-null   float64       \n",
      " 3   CO/hr             9357 non-null   float64       \n",
      " 4   NMHC-micgr/m3/hr  9357 non-null   float64       \n",
      " 5   C6H6-micgr/m3/hr  9357 non-null   float64       \n",
      " 6   NMHC/hr           9357 non-null   float64       \n",
      " 7   NOx-ppb/hr        9357 non-null   float64       \n",
      " 8   NOx/hr            9357 non-null   float64       \n",
      " 9   NO2-micgr/m3/hr   9357 non-null   float64       \n",
      " 10  NO2/hr            9357 non-null   float64       \n",
      " 11  03/hr             9357 non-null   float64       \n",
      " 12  temperatura°C     9357 non-null   float64       \n",
      " 13  umidade_relativa  9357 non-null   float64       \n",
      " 14  umidade_absoluta  9357 non-null   float64       \n",
      " 15  dia_semana        9357 non-null   float64       \n",
      "dtypes: datetime64[ns](1), float64(14), object(1)\n",
      "memory usage: 1.2+ MB\n"
     ]
    }
   ],
   "source": [
    "df_quality.info()"
   ]
  },
  {
   "cell_type": "code",
   "execution_count": 318,
   "metadata": {},
   "outputs": [
    {
     "data": {
      "text/plain": [
       "dia_semana\n",
       "6.0    1374\n",
       "0.0    1359\n",
       "4.0    1344\n",
       "3.0    1344\n",
       "2.0    1320\n",
       "1.0    1320\n",
       "5.0    1296\n",
       "Name: count, dtype: int64"
      ]
     },
     "execution_count": 318,
     "metadata": {},
     "output_type": "execute_result"
    }
   ],
   "source": [
    "df_quality['dia_semana'].value_counts()"
   ]
  },
  {
   "cell_type": "code",
   "execution_count": 319,
   "metadata": {},
   "outputs": [
    {
     "data": {
      "text/plain": [
       "Date                114\n",
       "Time                114\n",
       "CO-mg/m3/hr         114\n",
       "CO/hr               114\n",
       "NMHC-micgr/m3/hr    114\n",
       "C6H6-micgr/m3/hr    114\n",
       "NMHC/hr             114\n",
       "NOx-ppb/hr          114\n",
       "NOx/hr              114\n",
       "NO2-micgr/m3/hr     114\n",
       "NO2/hr              114\n",
       "03/hr               114\n",
       "temperatura°C       114\n",
       "umidade_relativa    114\n",
       "umidade_absoluta    114\n",
       "dia_semana          114\n",
       "dtype: int64"
      ]
     },
     "execution_count": 319,
     "metadata": {},
     "output_type": "execute_result"
    }
   ],
   "source": [
    "df_quality.isnull().sum()"
   ]
  },
  {
   "cell_type": "code",
   "execution_count": 320,
   "metadata": {},
   "outputs": [],
   "source": [
    "df_quality = df_quality.dropna()"
   ]
  },
  {
   "cell_type": "code",
   "execution_count": 321,
   "metadata": {},
   "outputs": [
    {
     "data": {
      "text/plain": [
       "0"
      ]
     },
     "execution_count": 321,
     "metadata": {},
     "output_type": "execute_result"
    }
   ],
   "source": [
    "df_quality.duplicated().sum()"
   ]
  },
  {
   "cell_type": "code",
   "execution_count": 322,
   "metadata": {},
   "outputs": [],
   "source": [
    "df_quality = df_quality.drop_duplicates()"
   ]
  },
  {
   "cell_type": "code",
   "execution_count": 323,
   "metadata": {},
   "outputs": [
    {
     "data": {
      "text/plain": [
       "(9357, 16)"
      ]
     },
     "execution_count": 323,
     "metadata": {},
     "output_type": "execute_result"
    }
   ],
   "source": [
    "# checando mais uma vez a dimensão do dataframe\n",
    "# temos um df com 9819 linhas(registros) e 45 colunas(campos - variáveis)\n",
    "\n",
    "df_quality.shape"
   ]
  }
 ],
 "metadata": {
  "kernelspec": {
   "display_name": "Python 3",
   "language": "python",
   "name": "python3"
  },
  "language_info": {
   "codemirror_mode": {
    "name": "ipython",
    "version": 3
   },
   "file_extension": ".py",
   "mimetype": "text/x-python",
   "name": "python",
   "nbconvert_exporter": "python",
   "pygments_lexer": "ipython3",
   "version": "3.11.5"
  }
 },
 "nbformat": 4,
 "nbformat_minor": 2
}
