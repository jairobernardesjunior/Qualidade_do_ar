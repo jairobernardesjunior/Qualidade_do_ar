{
 "cells": [
  {
   "cell_type": "markdown",
   "metadata": {},
   "source": [
    "## Recupera os dados analisados e tratados, treina o modelo, fazendo a clusterização da qualidade do ar."
   ]
  },
  {
   "cell_type": "code",
   "execution_count": null,
   "metadata": {},
   "outputs": [],
   "source": [
    "# importa bibliotecas\n",
    "import pandas as pd\n",
    "\n",
    "from sklearn.pipeline import Pipeline # permite uma sequência de estágios a serem executados\n",
    "from sklearn.cluster import KMeans # algorítmo de clusterização\n",
    "from sklearn.decomposition import PCA # reduz o nro de variáveis para otimizar o algorítmo do modelo\n",
    "                                      # ajuda a evitar overfiting do modelo\n",
    "\n",
    "pd.set_option('display.max_rows', None) # libera a exibição de todas as linhas \n",
    "pd.set_option('display.max_columns', None) # libera a exibição de todas as colunas\n",
    "import warnings\n",
    "warnings.simplefilter('ignore') # inibe a exibição de advertências de warning"
   ]
  },
  {
   "cell_type": "code",
   "execution_count": null,
   "metadata": {},
   "outputs": [],
   "source": [
    "# carregando arquivo tratado em dataframe\n",
    "df_acidentes_aero_trans = pd.read_csv('arquivos_tratados/df_acidentes_aero_trans.csv')"
   ]
  },
  {
   "cell_type": "code",
   "execution_count": null,
   "metadata": {},
   "outputs": [
    {
     "data": {
      "text/plain": [
       "(9357, 59)"
      ]
     },
     "metadata": {},
     "output_type": "display_data"
    }
   ],
   "source": [
    "# conferindo a dimensão do dataframe, linhas e colunas\n",
    "df_acidentes_aero_trans.shape"
   ]
  }
 ],
 "metadata": {
  "language_info": {
   "name": "python"
  }
 },
 "nbformat": 4,
 "nbformat_minor": 2
}
